{
 "cells": [
  {
   "cell_type": "code",
   "execution_count": 3,
   "metadata": {
    "collapsed": false
   },
   "outputs": [
    {
     "name": "stderr",
     "output_type": "stream",
     "text": [
      "/usr/local/lib/python3.4/dist-packages/ipykernel/__main__.py:24: RuntimeWarning: overflow encountered in short_scalars\n"
     ]
    },
    {
     "name": "stdout",
     "output_type": "stream",
     "text": [
      "057_K.wav: ---K---: 180.518057421\n",
      "None\n",
      "064_M.wav: ---M---: 83.2385701636\n",
      "None\n",
      "076_M.wav: ---M---: 56.8459697596\n",
      "None\n"
     ]
    },
    {
     "name": "stderr",
     "output_type": "stream",
     "text": [
      "/usr/lib/python3/dist-packages/scipy/io/wavfile.py:42: WavFileWarning: Unknown wave file format\n",
      "  warnings.warn(\"Unknown wave file format\", WavFileWarning)\n"
     ]
    },
    {
     "name": "stdout",
     "output_type": "stream",
     "text": [
      "082_M.wav: ---M---: 65.7266336096\n",
      "None\n",
      "035_M.wav: ---M---: 126.919766663\n",
      "None\n",
      "046_K.wav: ---K---: 180.917880373\n",
      "None\n",
      "042_M.wav: ---?---: 0.0\n",
      "None\n",
      "005_M.wav: ---M---: 113.761698781\n",
      "None\n",
      "020_M.wav: ---M---: 109.418969849\n",
      "None\n",
      "017_M.wav: ---K---: 165.879920751\n",
      "None\n",
      "026_M.wav: ---K---: 161.662404092\n",
      "None\n",
      "078_M.wav: ---K---: 191.231048776\n",
      "None\n",
      "044_K.wav: ---?---: 0.0\n",
      "None\n",
      "030_M.wav: ---?---: 139.77384263\n",
      "None\n",
      "037_K.wav: ---?---: 0.0\n",
      "None\n",
      "029_K.wav: ---K---: 191.580183559\n",
      "None\n"
     ]
    },
    {
     "name": "stderr",
     "output_type": "stream",
     "text": [
      "/usr/lib/python3/dist-packages/scipy/io/wavfile.py:172: WavFileWarning: Chunk (non-data) not understood, skipping it.\n",
      "  WavFileWarning)\n"
     ]
    },
    {
     "name": "stdout",
     "output_type": "stream",
     "text": [
      "072_K.wav: ---M---: 94.5006490429\n",
      "None\n",
      "018_K.wav: ---?---: 147.959033737\n",
      "None\n",
      "067_K.wav: ---K---: 224.993787641\n",
      "None\n",
      "021_M.wav: ---M---: 101.947292556\n",
      "None\n",
      "038_M.wav: ---K---: 221.136145075\n",
      "None\n",
      "081_K.wav: ---M---: 64.9248663685\n",
      "None\n",
      "055_K.wav: ---?---: 137.669305674\n",
      "None\n",
      "068_K.wav: ---?---: 130.922497966\n",
      "None\n",
      "049_M.wav: ---M---: 98.5071374087\n",
      "None\n",
      "034_K.wav: ---K---: 172.009091445\n",
      "None\n",
      "024_M.wav: ---K---: 245.08532931\n",
      "None\n",
      "059_K.wav: ---?---: 0.0\n",
      "None\n",
      "073_K.wav: ---K---: 167.172926349\n",
      "None\n",
      "065_M.wav: ---?---: 0.0\n",
      "None\n",
      "071_M.wav: ---K---: 201.517683875\n",
      "None\n"
     ]
    },
    {
     "ename": "ZeroDivisionError",
     "evalue": "float division by zero",
     "output_type": "error",
     "traceback": [
      "\u001b[0;31m---------------------------------------------------------------------------\u001b[0m",
      "\u001b[0;31mZeroDivisionError\u001b[0m                         Traceback (most recent call last)",
      "\u001b[0;32m<ipython-input-3-ccf5e2704a9b>\u001b[0m in \u001b[0;36m<module>\u001b[0;34m()\u001b[0m\n\u001b[1;32m     71\u001b[0m \u001b[0;31m#    freqSample, signal = readWavFile('train/005_M.wav') # test version\u001b[0m\u001b[0;34m\u001b[0m\u001b[0;34m\u001b[0m\u001b[0m\n\u001b[1;32m     72\u001b[0m     \u001b[0;32mfor\u001b[0m \u001b[0mwav_file\u001b[0m \u001b[0;32min\u001b[0m \u001b[0mos\u001b[0m\u001b[0;34m.\u001b[0m\u001b[0mlistdir\u001b[0m\u001b[0;34m(\u001b[0m\u001b[0;34m'train'\u001b[0m\u001b[0;34m)\u001b[0m\u001b[0;34m:\u001b[0m\u001b[0;34m\u001b[0m\u001b[0m\n\u001b[0;32m---> 73\u001b[0;31m         \u001b[0mprint\u001b[0m\u001b[0;34m(\u001b[0m\u001b[0mcheck_voice\u001b[0m\u001b[0;34m(\u001b[0m\u001b[0mwav_file\u001b[0m\u001b[0;34m)\u001b[0m\u001b[0;34m)\u001b[0m\u001b[0;34m\u001b[0m\u001b[0m\n\u001b[0m\u001b[1;32m     74\u001b[0m     \u001b[0mpl\u001b[0m\u001b[0;34m.\u001b[0m\u001b[0mplot\u001b[0m\u001b[0;34m(\u001b[0m\u001b[0msignal\u001b[0m\u001b[0;34m)\u001b[0m\u001b[0;34m\u001b[0m\u001b[0m\n\u001b[1;32m     75\u001b[0m     \u001b[0;31m# pl.plot(signal[:,0], signal[:,1])\u001b[0m\u001b[0;34m\u001b[0m\u001b[0;34m\u001b[0m\u001b[0m\n",
      "\u001b[0;32m<ipython-input-3-ccf5e2704a9b>\u001b[0m in \u001b[0;36mcheck_voice\u001b[0;34m(wav_name)\u001b[0m\n\u001b[1;32m     58\u001b[0m     \u001b[0mfreqSample\u001b[0m\u001b[0;34m,\u001b[0m \u001b[0msignal\u001b[0m \u001b[0;34m=\u001b[0m \u001b[0mreadWavFile\u001b[0m\u001b[0;34m(\u001b[0m\u001b[0;34m'train/'\u001b[0m \u001b[0;34m+\u001b[0m \u001b[0mwav_name\u001b[0m\u001b[0;34m)\u001b[0m\u001b[0;34m\u001b[0m\u001b[0m\n\u001b[1;32m     59\u001b[0m     \u001b[0msignal\u001b[0m \u001b[0;34m=\u001b[0m \u001b[0mpreprocessSignal\u001b[0m\u001b[0;34m(\u001b[0m\u001b[0msignal\u001b[0m\u001b[0;34m)\u001b[0m\u001b[0;34m\u001b[0m\u001b[0m\n\u001b[0;32m---> 60\u001b[0;31m     \u001b[0mpeaks\u001b[0m \u001b[0;34m=\u001b[0m \u001b[0mtop_peaks\u001b[0m\u001b[0;34m(\u001b[0m\u001b[0msignal\u001b[0m\u001b[0;34m,\u001b[0m \u001b[0mfreqSample\u001b[0m\u001b[0;34m)\u001b[0m\u001b[0;34m\u001b[0m\u001b[0m\n\u001b[0m\u001b[1;32m     61\u001b[0m     \u001b[0mavr\u001b[0m \u001b[0;34m=\u001b[0m \u001b[0mnp\u001b[0m\u001b[0;34m.\u001b[0m\u001b[0mmean\u001b[0m\u001b[0;34m(\u001b[0m\u001b[0mpeaks\u001b[0m\u001b[0;34m)\u001b[0m\u001b[0;34m\u001b[0m\u001b[0m\n\u001b[1;32m     62\u001b[0m     \u001b[0;32mif\u001b[0m \u001b[0mavr\u001b[0m \u001b[0;34m>\u001b[0m \u001b[0;36m160\u001b[0m\u001b[0;34m:\u001b[0m\u001b[0;34m\u001b[0m\u001b[0m\n",
      "\u001b[0;32m<ipython-input-3-ccf5e2704a9b>\u001b[0m in \u001b[0;36mtop_peaks\u001b[0;34m(signal, freqSample, num)\u001b[0m\n\u001b[1;32m     40\u001b[0m \u001b[0;34m\u001b[0m\u001b[0m\n\u001b[1;32m     41\u001b[0m \u001b[0;32mdef\u001b[0m \u001b[0mtop_peaks\u001b[0m\u001b[0;34m(\u001b[0m\u001b[0msignal\u001b[0m\u001b[0;34m,\u001b[0m \u001b[0mfreqSample\u001b[0m\u001b[0;34m,\u001b[0m \u001b[0mnum\u001b[0m \u001b[0;34m=\u001b[0m \u001b[0;36m10\u001b[0m\u001b[0;34m)\u001b[0m\u001b[0;34m:\u001b[0m\u001b[0;34m\u001b[0m\u001b[0m\n\u001b[0;32m---> 42\u001b[0;31m     \u001b[0mfreqs\u001b[0m \u001b[0;34m=\u001b[0m \u001b[0mpl\u001b[0m\u001b[0;34m.\u001b[0m\u001b[0mfftfreq\u001b[0m\u001b[0;34m(\u001b[0m\u001b[0mlen\u001b[0m\u001b[0;34m(\u001b[0m\u001b[0msignal\u001b[0m\u001b[0;34m)\u001b[0m\u001b[0;34m)\u001b[0m\u001b[0;34m\u001b[0m\u001b[0m\n\u001b[0m\u001b[1;32m     43\u001b[0m     \u001b[0mfreqs\u001b[0m \u001b[0;34m=\u001b[0m \u001b[0mfreqs\u001b[0m \u001b[0;34m*\u001b[0m \u001b[0mfreqSample\u001b[0m\u001b[0;34m\u001b[0m\u001b[0m\n\u001b[1;32m     44\u001b[0m     \u001b[0;32mfor\u001b[0m \u001b[0mi\u001b[0m \u001b[0;32min\u001b[0m \u001b[0mrange\u001b[0m\u001b[0;34m(\u001b[0m\u001b[0mlen\u001b[0m\u001b[0;34m(\u001b[0m\u001b[0mfreqs\u001b[0m\u001b[0;34m)\u001b[0m\u001b[0;34m)\u001b[0m\u001b[0;34m:\u001b[0m\u001b[0;34m\u001b[0m\u001b[0m\n",
      "\u001b[0;32m/usr/local/lib/python3.4/dist-packages/numpy/fft/helper.py\u001b[0m in \u001b[0;36mfftfreq\u001b[0;34m(n, d)\u001b[0m\n\u001b[1;32m    163\u001b[0m     \u001b[0;32mif\u001b[0m \u001b[0;32mnot\u001b[0m \u001b[0misinstance\u001b[0m\u001b[0;34m(\u001b[0m\u001b[0mn\u001b[0m\u001b[0;34m,\u001b[0m \u001b[0minteger_types\u001b[0m\u001b[0;34m)\u001b[0m\u001b[0;34m:\u001b[0m\u001b[0;34m\u001b[0m\u001b[0m\n\u001b[1;32m    164\u001b[0m         \u001b[0;32mraise\u001b[0m \u001b[0mValueError\u001b[0m\u001b[0;34m(\u001b[0m\u001b[0;34m\"n should be an integer\"\u001b[0m\u001b[0;34m)\u001b[0m\u001b[0;34m\u001b[0m\u001b[0m\n\u001b[0;32m--> 165\u001b[0;31m     \u001b[0mval\u001b[0m \u001b[0;34m=\u001b[0m \u001b[0;36m1.0\u001b[0m \u001b[0;34m/\u001b[0m \u001b[0;34m(\u001b[0m\u001b[0mn\u001b[0m \u001b[0;34m*\u001b[0m \u001b[0md\u001b[0m\u001b[0;34m)\u001b[0m\u001b[0;34m\u001b[0m\u001b[0m\n\u001b[0m\u001b[1;32m    166\u001b[0m     \u001b[0mresults\u001b[0m \u001b[0;34m=\u001b[0m \u001b[0mempty\u001b[0m\u001b[0;34m(\u001b[0m\u001b[0mn\u001b[0m\u001b[0;34m,\u001b[0m \u001b[0mint\u001b[0m\u001b[0;34m)\u001b[0m\u001b[0;34m\u001b[0m\u001b[0m\n\u001b[1;32m    167\u001b[0m     \u001b[0mN\u001b[0m \u001b[0;34m=\u001b[0m \u001b[0;34m(\u001b[0m\u001b[0mn\u001b[0m\u001b[0;34m-\u001b[0m\u001b[0;36m1\u001b[0m\u001b[0;34m)\u001b[0m\u001b[0;34m//\u001b[0m\u001b[0;36m2\u001b[0m \u001b[0;34m+\u001b[0m \u001b[0;36m1\u001b[0m\u001b[0;34m\u001b[0m\u001b[0m\n",
      "\u001b[0;31mZeroDivisionError\u001b[0m: float division by zero"
     ]
    }
   ],
   "source": [
    "%matplotlib inline\n",
    "import pylab as pl\n",
    "import numpy as np\n",
    "import scipy.io.wavfile as wavf\n",
    "import os\n",
    "import math\n",
    "import sys\n",
    "\n",
    "def readWavFile(name):\n",
    "    frequencySample, signal = wavf.read(name)\n",
    "    return frequencySample, signal\n",
    "\n",
    "def preprocessSignal(signal):\n",
    "    signal = makeMono(signal)\n",
    "    signal = removeSilence(signal)\n",
    "    return signal\n",
    "\n",
    "def makeMono(signal):\n",
    "    finalSignal = []\n",
    "    for s in signal:\n",
    "        if isNumber(s):\n",
    "            finalSignal.append(s)\n",
    "        else:\n",
    "            stereoMean = np.int16((s[0] + s[1]) / 2)\n",
    "            finalSignal.append(stereoMean)\n",
    "            \n",
    "    return np.array(finalSignal)\n",
    "\n",
    "def isNumber(value):\n",
    "    return type(value) is np.int16\n",
    "\n",
    "def removeSilence(signal):\n",
    "    finalSignal = []\n",
    "    threshold = 400\n",
    "    for s in signal:\n",
    "        if abs(s) > threshold:\n",
    "            finalSignal.append(s)\n",
    "    \n",
    "    return np.array(finalSignal)\n",
    "\n",
    "def top_peaks(signal, freqSample, num = 10):\n",
    "    freqs = pl.fftfreq(len(signal))\n",
    "    freqs = freqs * freqSample\n",
    "    for i in range(len(freqs)):\n",
    "        if freqs[i]<50:\n",
    "            signal[i]=0\n",
    "        elif freqs[i]>250:\n",
    "            signal[i]=0            \n",
    "    peaks = []            \n",
    "    for i in range(num):\n",
    "        k = pl.argmax(signal)\n",
    "        freq = freqs[k]\n",
    "        peaks.append(freq)\n",
    "        signal[k]=0        \n",
    "    return peaks\n",
    "\n",
    "def check_voice(wav_name):\n",
    "    freqSample, signal = readWavFile('train/' + wav_name)\n",
    "    signal = preprocessSignal(signal)\n",
    "    peaks = top_peaks(signal, freqSample)\n",
    "    avr = np.mean(peaks)\n",
    "    if avr > 160:\n",
    "        print(wav_name + ': ---K---: ' + str(avr))\n",
    "    elif avr > 50 and avr < 130:\n",
    "        print(wav_name + ': ---M---: ' + str(avr))\n",
    "    else:\n",
    "        print(wav_name + ': ---?---: ' + str(avr))\n",
    "\n",
    "if __name__ == '__main__':\n",
    "#     frequencySample, signal = readWavFile(sys.argv[0]) # final version\n",
    "#    freqSample, signal = readWavFile('train/005_M.wav') # test version\n",
    "    for wav_file in os.listdir('train'):\n",
    "        print(check_voice(wav_file))\n",
    "    pl.plot(signal)\n",
    "    # pl.plot(signal[:,0], signal[:,1])\n",
    "    # pl.plot(signal[:,0])\n",
    "    # pl.plot(signal[:,1])"
   ]
  },
  {
   "cell_type": "code",
   "execution_count": null,
   "metadata": {
    "collapsed": false
   },
   "outputs": [],
   "source": []
  },
  {
   "cell_type": "code",
   "execution_count": null,
   "metadata": {
    "collapsed": true
   },
   "outputs": [],
   "source": []
  },
  {
   "cell_type": "code",
   "execution_count": null,
   "metadata": {
    "collapsed": true
   },
   "outputs": [],
   "source": []
  }
 ],
 "metadata": {
  "anaconda-cloud": {},
  "kernelspec": {
   "display_name": "Python 3",
   "language": "python",
   "name": "python3"
  },
  "language_info": {
   "codemirror_mode": {
    "name": "ipython",
    "version": 3
   },
   "file_extension": ".py",
   "mimetype": "text/x-python",
   "name": "python",
   "nbconvert_exporter": "python",
   "pygments_lexer": "ipython3",
   "version": "3.4.3"
  }
 },
 "nbformat": 4,
 "nbformat_minor": 1
}
