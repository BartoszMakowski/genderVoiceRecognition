{
 "cells": [
  {
   "cell_type": "code",
   "execution_count": null,
   "metadata": {
    "collapsed": false
   },
   "outputs": [],
   "source": [
    "import os\n",
    "import wave\n",
    "import numpy as np\n",
    "import matplotlib.pyplot as plt\n",
    "from sighelpers import voice_from_signal, format_sig\n",
    "\n",
    "if __name__ == '__main__':\n",
    "\n",
    "    for wav_file in os.listdir('train')[:100]:\n",
    "        print(wav_file)\n",
    "        w = wave.open('train/' + wav_file)\n",
    "        framerate = w.getframerate()\n",
    "        frames = w.getnframes()\n",
    "        channels = w.getnchannels()\n",
    "        width = w.getsampwidth()       \n",
    "        data = w.readframes(frames)\n",
    "        sig = format_sig(data, channels)\n",
    "        tab = voice_from_signal(sig, framerate, low = 20, high = 280, width = 4096)\n",
    "                \n",
    "        print(np.mean(tab))\n",
    "        print(\"-----\")"
   ]
  },
  {
   "cell_type": "code",
   "execution_count": null,
   "metadata": {
    "collapsed": true
   },
   "outputs": [],
   "source": []
  }
 ],
 "metadata": {
  "anaconda-cloud": {},
  "kernelspec": {
   "display_name": "Python 3",
   "language": "python",
   "name": "python3"
  },
  "language_info": {
   "codemirror_mode": {
    "name": "ipython",
    "version": 3
   },
   "file_extension": ".py",
   "mimetype": "text/x-python",
   "name": "python",
   "nbconvert_exporter": "python",
   "pygments_lexer": "ipython3",
   "version": "3.4.3"
  }
 },
 "nbformat": 4,
 "nbformat_minor": 1
}
