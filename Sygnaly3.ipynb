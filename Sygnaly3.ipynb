{
 "cells": [
  {
   "cell_type": "code",
   "execution_count": null,
   "metadata": {
    "collapsed": false
   },
   "outputs": [],
   "source": []
  },
  {
   "cell_type": "code",
   "execution_count": 95,
   "metadata": {
    "collapsed": false
   },
   "outputs": [],
   "source": []
  },
  {
   "cell_type": "code",
   "execution_count": 187,
   "metadata": {
    "collapsed": false
   },
   "outputs": [
    {
     "ename": "ImportError",
     "evalue": "cannot import name 'fftfreq'",
     "output_type": "error",
     "traceback": [
      "\u001b[0;31m---------------------------------------------------------------------------\u001b[0m",
      "\u001b[0;31mImportError\u001b[0m                               Traceback (most recent call last)",
      "\u001b[0;32m<ipython-input-187-47bb64a39cc3>\u001b[0m in \u001b[0;36m<module>\u001b[0;34m()\u001b[0m\n\u001b[1;32m      2\u001b[0m \u001b[0;32mimport\u001b[0m \u001b[0mpylab\u001b[0m \u001b[0;32mas\u001b[0m \u001b[0mpl\u001b[0m\u001b[0;34m\u001b[0m\u001b[0m\n\u001b[1;32m      3\u001b[0m \u001b[0;32mimport\u001b[0m \u001b[0mnumpy\u001b[0m \u001b[0;32mas\u001b[0m \u001b[0mnp\u001b[0m\u001b[0;34m\u001b[0m\u001b[0m\n\u001b[0;32m----> 4\u001b[0;31m \u001b[0;32mfrom\u001b[0m \u001b[0mscipy\u001b[0m \u001b[0;32mimport\u001b[0m \u001b[0mstats\u001b[0m\u001b[0;34m,\u001b[0m \u001b[0mfft\u001b[0m\u001b[0;34m,\u001b[0m \u001b[0mfftfreq\u001b[0m\u001b[0;34m\u001b[0m\u001b[0m\n\u001b[0m\u001b[1;32m      5\u001b[0m \u001b[0;32mimport\u001b[0m \u001b[0mscipy\u001b[0m\u001b[0;34m.\u001b[0m\u001b[0mio\u001b[0m\u001b[0;34m.\u001b[0m\u001b[0mwavfile\u001b[0m \u001b[0;32mas\u001b[0m \u001b[0mwavf\u001b[0m\u001b[0;34m\u001b[0m\u001b[0m\n\u001b[1;32m      6\u001b[0m \u001b[0;32mimport\u001b[0m \u001b[0mos\u001b[0m\u001b[0;34m\u001b[0m\u001b[0m\n",
      "\u001b[0;31mImportError\u001b[0m: cannot import name 'fftfreq'"
     ]
    }
   ],
   "source": [
    "%matplotlib inline\n",
    "import pylab as pl\n",
    "import numpy as np\n",
    "from scipy import stats\n",
    "import scipy.io.wavfile as wavf\n",
    "import os\n",
    "import math\n",
    "import sys\n",
    "import soundfile as sf\n",
    "from aubio import pitch\n",
    "\n",
    "def makeMono(signal):\n",
    "    finalSignal = []\n",
    "    signal = signal.astype(np.float32)\n",
    "    for s in signal:\n",
    "        if isNumber(s):\n",
    "            finalSignal.append(s)\n",
    "        else:\n",
    "            stereoMean = (s[0] + s[1]) / 2.0\n",
    "            finalSignal.append(stereoMean)\n",
    "            \n",
    "    finalSignal = np.array(finalSignal)\n",
    "        \n",
    "    return finalSignal.astype(np.float32)\n",
    "\n",
    "def isNumber(value):\n",
    "    return not hasattr(value, \"__len__\")\n",
    "\n",
    "def decisionTree(pitches):\n",
    "    avr = np.mean(pitches)\n",
    "    q25 = np.percentile(pitches, 25)\n",
    "    q75 = np.percentile(pitches, 75)\n",
    "    iqr = q75 - q25\n",
    "\n",
    "    if avr >= 145:\n",
    "        gender = 'K'\n",
    "    elif iqr >= 135:\n",
    "        gender = 'K'\n",
    "    else:\n",
    "        gender = 'M'\n",
    "   \n",
    "    return gender, avr, iqr\n",
    "\n",
    "def analyze_wav(wav_file):\n",
    "    wav_file = 'train/' + wav_file\n",
    "    fileGender = wav_file[10]\n",
    "    signal, samplerate = sf.read(wav_file)\n",
    "    signal = makeMono(signal)\n",
    "    \n",
    "    win_s = 4096\n",
    "    hop_s = 512\n",
    "    pitch_o = pitch(\"yin\", win_s, hop_s, samplerate)\n",
    "    pitches = []\n",
    "    i = 0\n",
    "    size = 512\n",
    "    n = len(signal)\n",
    "    \n",
    "    while size*(i+1) < n:\n",
    "        samples = signal[(i*size):((i+1)*size)]\n",
    "        pitch_sample  = pitch_o(samples)[0]\n",
    "        if pitch_sample > 0 and pitch_sample < 280:\n",
    "            pitches += [pitch_sample]\n",
    "        i += 1\n",
    "    \n",
    "    gender, avr, iqr = decisionTree(pitches)\n",
    "    print(wav_file + ' ~~~> ' + gender + ' ~~~> MEAN: ' + str(avr) + ' ~~~> IQR: ' + str(iqr) )\n",
    "    if gender == fileGender:\n",
    "        return 1\n",
    "    print('NO')\n",
    "    return 0\n"
   ]
  },
  {
   "cell_type": "code",
   "execution_count": 210,
   "metadata": {
    "collapsed": false
   },
   "outputs": [
    {
     "name": "stdout",
     "output_type": "stream",
     "text": [
      "057_K.wav\n",
      "sampling rate: 44100 Hz\n",
      "length: 207047 samples\n",
      "channels: 2\n",
      "sample width: 2 bytes\n",
      "[[-2 -2]\n",
      " [-1 -1]\n",
      " [-1 -1]\n",
      " ..., \n",
      " [ 0  0]\n",
      " [-1 -1]\n",
      " [-1 -1]]\n",
      "257.992150649\n",
      "end\n"
     ]
    },
    {
     "data": {
      "image/png": "[encoded data removed]",
      "text/plain": [
       "<matplotlib.figure.Figure at 0x7fbb211eb0f0>"
      ]
     },
     "metadata": {},
     "output_type": "display_data"
    }
   ],
   "source": [
    "import wave\n",
    "import matplotlib.pyplot as plt\n",
    "\n",
    "if __name__ == '__main__':\n",
    "#     for wav_file in os.listdir('train'):\n",
    "#         try:\n",
    "#             analyze_wav(wav_file)\n",
    "#         except:\n",
    "#             print(wav_file)\n",
    "#             pass\n",
    "    good = 0\n",
    "\n",
    "    for wav_file in os.listdir('train')[:1]:\n",
    "     #   try:\n",
    "            print(wav_file)\n",
    "            #sf.read('train/' + wav_file)\n",
    "            w = wave.open('train/' + wav_file)\n",
    "            framerate = w.getframerate()\n",
    "            frames = w.getnframes()\n",
    "            channels = w.getnchannels()\n",
    "            width = w.getsampwidth()\n",
    "            print('sampling rate:', framerate, 'Hz')\n",
    "            print('length:', frames, 'samples')\n",
    "            print('channels:', channels)\n",
    "            print('sample width:', width, 'bytes')\n",
    "            data = w.readframes(frames)\n",
    "\n",
    "            sig = np.frombuffer(data, dtype='int16').reshape(-1, channels)\n",
    "            print(sig)\n",
    "            sig = sig /2**15\n",
    "            #plt.plot(sig[:100000,0]/2**15)\n",
    "            fig = plt.figure(figsize=(15, 6), dpi=80)\n",
    "            ax =  fig.add_subplot(121)\n",
    "            #ax.set_ylim(-10, 2100)\n",
    "            #sig = np.frombuffer(data, dtype='2B').reshape(-1, channels)\n",
    "            sig = sig[:,0]\n",
    "            signal = np.fft.fft(sig)\n",
    "            d = len(signal)/2\n",
    "            spec = abs(signal[:int(d-1)])\n",
    "            #freq = np.fft.fftfreq(len(spec))\n",
    "            tab = []\n",
    "            \n",
    "            k = 0\n",
    "            l = len(sig)\n",
    "            while k < l - 4096:\n",
    "                spec = np.fft.fft(sig[k:k+4096])\n",
    "                freqs = np.fft.fftfreq(len(spec))\n",
    "                idx = np.argmax(np.abs(spec))\n",
    "                freq = freqs[idx]\n",
    "                freq_in_hertz = abs(freq * framerate)\n",
    "                if freq_in_hertz > 50 and freq_in_hertz <280:\n",
    "                    tab = tab + [freq_in_hertz]\n",
    "                k += 512\n",
    "                \n",
    "            print(np.mean(tab))\n",
    "                \n",
    "                \n",
    "    print('end')"
   ]
  },
  {
   "cell_type": "code",
   "execution_count": null,
   "metadata": {
    "collapsed": true
   },
   "outputs": [],
   "source": []
  },
  {
   "cell_type": "code",
   "execution_count": null,
   "metadata": {
    "collapsed": false
   },
   "outputs": [],
   "source": []
  },
  {
   "cell_type": "code",
   "execution_count": null,
   "metadata": {
    "collapsed": true
   },
   "outputs": [],
   "source": []
  }
 ],
 "metadata": {
  "anaconda-cloud": {},
  "kernelspec": {
   "display_name": "Python 3",
   "language": "python",
   "name": "python3"
  },
  "language_info": {
   "codemirror_mode": {
    "name": "ipython",
    "version": 3
   },
   "file_extension": ".py",
   "mimetype": "text/x-python",
   "name": "python",
   "nbconvert_exporter": "python",
   "pygments_lexer": "ipython3",
   "version": "3.4.3"
  }
 },
 "nbformat": 4,
 "nbformat_minor": 1
}
